{
 "cells": [
  {
   "cell_type": "markdown",
   "metadata": {},
   "source": [
    "<h1>GIS BOX Download Module</h1>"
   ]
  },
  {
   "cell_type": "markdown",
   "metadata": {},
   "source": [
    "Project to create a **file synchronization service between an [ArcGIS Online](http://doc.arcgis.com/es/arcgis-online/reference/what-is-agol.htm) or [ArcGIS Enterprise](http://server.arcgis.com/es/server/latest/get-started/windows/what-is-arcgis-enterprise-.htm) account and a local-based filesystem**. \n",
    "\n",
    "This module will download a given type of file (Excel, PDFs, CSV, KML, etc...) into a folder of the user OS"
   ]
  },
  {
   "cell_type": "code",
   "execution_count": 1,
   "metadata": {
    "collapsed": true
   },
   "outputs": [],
   "source": [
    "from arcgis.gis import GIS\n",
    "from arcgis.gis import User\n",
    "import os\n",
    "import getpass"
   ]
  },
  {
   "cell_type": "code",
   "execution_count": 2,
   "metadata": {},
   "outputs": [
    {
     "name": "stdout",
     "output_type": "stream",
     "text": [
      "········\n"
     ]
    }
   ],
   "source": [
    "# with this we get prompted to enter the password instead of hardcoding it inside the code\n",
    "p = getpass.getpass()\n",
    "gis = GIS(\"https://geogeeks.maps.arcgis.com\", \"aitor.calero.masquemapas\", p)"
   ]
  },
  {
   "cell_type": "markdown",
   "metadata": {},
   "source": [
    "Now, we are going to acces to the User content to retrieve the folders structure and every item inside them"
   ]
  },
  {
   "cell_type": "code",
   "execution_count": 10,
   "metadata": {
    "scrolled": false
   },
   "outputs": [],
   "source": [
    "search_result = gis.content.search(query=\"title:Spain Summary Report\")\n",
    "ports_csv_item = gis.content.get(search_result[0].id)\n",
    "#ports_csv_item.get_data()"
   ]
  },
  {
   "cell_type": "code",
   "execution_count": 9,
   "metadata": {},
   "outputs": [
    {
     "data": {
      "text/plain": [
       "'/var/folders/3v/v4s6kjrs1sv72n17xt6ms19r0000gp/T/meteorite-landings.csv'"
      ]
     },
     "execution_count": 9,
     "metadata": {},
     "output_type": "execute_result"
    }
   ],
   "source": [
    "search_result = gis.content.search(query=\"title:Impactos Meteoritos\")\n",
    "ports_csv_item = gis.content.get(search_result[0].id)\n",
    "ports_csv_item.get_data()"
   ]
  },
  {
   "cell_type": "code",
   "execution_count": null,
   "metadata": {
    "collapsed": true
   },
   "outputs": [],
   "source": []
  }
 ],
 "metadata": {
  "kernelspec": {
   "display_name": "Python 3",
   "language": "python",
   "name": "python3"
  },
  "language_info": {
   "codemirror_mode": {
    "name": "ipython",
    "version": 3
   },
   "file_extension": ".py",
   "mimetype": "text/x-python",
   "name": "python",
   "nbconvert_exporter": "python",
   "pygments_lexer": "ipython3",
   "version": "3.6.1"
  }
 },
 "nbformat": 4,
 "nbformat_minor": 2
}
