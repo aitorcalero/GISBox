{
 "cells": [
  {
   "cell_type": "markdown",
   "metadata": {},
   "source": [
    "<h1>GIS BOX Project</h1>"
   ]
  },
  {
   "cell_type": "markdown",
   "metadata": {},
   "source": [
    "Project to create a **file synchronization service between an [ArcGIS Online](http://doc.arcgis.com/es/arcgis-online/reference/what-is-agol.htm) or [ArcGIS Enterprise](http://server.arcgis.com/es/server/latest/get-started/windows/what-is-arcgis-enterprise-.htm) account and a local-based filesystem**. \n",
    "\n",
    "With this tool you can easily synchronize all the content you have in your ArcGIS Organization to a local folder. This way you can easily manage documents, CSVs files, Shapefiles, etc... as you would do with other tools like [BOX](https://www.box.com), [Dropbox](https://www.dropbox.com) or [OneDrive](https://www.onedrive.com).\n",
    "\n",
    "This project uses the [ArcGIS API for Python](https://developers.arcgis.com/python/): \n",
    "\n",
    "> a Python library for working with maps and geospatial data. It provides simple and efficient tools for sophisticated vector and raster analysis, geocoding, map making, routing and directions, as well as for organizing and managing a GIS with users, groups and information items."
   ]
  },
  {
   "cell_type": "code",
   "execution_count": 1,
   "metadata": {
    "collapsed": true
   },
   "outputs": [],
   "source": [
    "from arcgis.gis import GIS\n",
    "from arcgis.gis import User\n",
    "import os\n",
    "import getpass"
   ]
  },
  {
   "cell_type": "code",
   "execution_count": 2,
   "metadata": {},
   "outputs": [
    {
     "name": "stdout",
     "output_type": "stream",
     "text": [
      "········\n",
      "Connected successfully to the [Map GeoGeeks from Spain] organization\n",
      "\n"
     ]
    }
   ],
   "source": [
    "# with this we get prompted to enter the password instead of hardcoding it inside the code\n",
    "url = 'https://geogeeks.maps.arcgis.com'\n",
    "usr = 'aitor.calero.masquemapas'\n",
    "p = getpass.getpass()\n",
    "\n",
    "def connnect_to_arcgis( url,usr,pwd ):\n",
    "    gis = GIS(url, usr, p)\n",
    "    print('Connected successfully to the [' + gis.properties.name + '] organization\\n')\n",
    "    return gis\n",
    "\n",
    "gis = connnect_to_arcgis(url,usr,p)    "
   ]
  },
  {
   "cell_type": "markdown",
   "metadata": {},
   "source": [
    "Now, we are going to access to the User content to retrieve the folder structure and every item inside them including the elements in the root folder"
   ]
  },
  {
   "cell_type": "code",
   "execution_count": 3,
   "metadata": {
    "collapsed": true
   },
   "outputs": [],
   "source": [
    "m = gis.map()\n",
    "user = User(gis,usr,userdict=None)"
   ]
  },
  {
   "cell_type": "markdown",
   "metadata": {},
   "source": [
    "Now we list the number & type of items contained inside each folder"
   ]
  },
  {
   "cell_type": "code",
   "execution_count": 4,
   "metadata": {},
   "outputs": [
    {
     "name": "stdout",
     "output_type": "stream",
     "text": [
      "\n",
      "You have **14** folders in your ArcGIS Organization\n",
      "\n",
      "Total number of items in root folder: 66\n",
      "Tabla_Empleados_Madrid\t\t(CSV)\n",
      "\n",
      "Impactos_meteoritos\t\t(CSV)\n",
      "\n",
      "Algeciras 28-2-2017 v0.2\t\t(PDF)\n",
      "\n",
      "Name: BA - Application Data\n",
      "\n",
      "You have 15 items inside your folder\n",
      "\n",
      "Name: BA - My Reports - Ordered Reports\n",
      "\n",
      "You have 4 items inside your folder\n",
      "\n",
      "\t\tSpain Summary Report\t\t(PDF)\n",
      "\n",
      "\t\tSite Map\t\t(PDF)\n",
      "\n",
      "\t\tSpain Consumer Spending (AIS)\t\t(PDF)\n",
      "\n",
      "\t\tSpain Consumer Spending (AIS) 2\t\t(PDF)\n",
      "\n",
      "Name: BA - Project Data\n",
      "\n",
      "You have 1 items inside your folder\n",
      "\n",
      "Name: CA - Application Data\n",
      "\n",
      "You have 16 items inside your folder\n",
      "\n",
      "Name: CA - My Reports - Ordered Reports\n",
      "\n",
      "You have 1 items inside your folder\n",
      "\n",
      "\t\tSpain Consumer Spending (AIS)\t\t(PDF)\n",
      "\n",
      "Name: CA - Project Data\n",
      "\n",
      "You have 1 items inside your folder\n",
      "\n",
      "Name: Geogeeks\n",
      "\n",
      "You have 0 items inside your folder\n",
      "\n",
      "Name: PokemonGo\n",
      "\n",
      "You have 35 items inside your folder\n",
      "\n",
      "\t\tPokémon GO MADRID\t\t(KML)\n",
      "\n",
      "\t\tParadas Autobuses\t\t(Microsoft Excel)\n",
      "\n",
      "Name: Report Templates\n",
      "\n",
      "You have 1 items inside your folder\n",
      "\n",
      "Name: Survey-Información de Competencia\n",
      "\n",
      "You have 3 items inside your folder\n",
      "\n",
      "Name: Survey-Test \n",
      "\n",
      "You have 3 items inside your folder\n",
      "\n",
      "Name: Survey-TestAnónimo\n",
      "\n",
      "You have 3 items inside your folder\n",
      "\n",
      "Name: Survey-Visitas a Clientes\n",
      "\n",
      "You have 3 items inside your folder\n",
      "\n",
      "Name: _ Geodesign 87ff1d4b2a6042edba90c43d5aab8a0c\n",
      "\n",
      "You have 4 items inside your folder\n",
      "\n",
      "\tDownloadable elements:\t10\n"
     ]
    }
   ],
   "source": [
    "flds = user.folders\n",
    "print('\\nYou have **'+str(len(user.folders))+'** folders in your ArcGIS Organization\\n')\n",
    "# listing documents in the user root folder\n",
    "root_folder_items = user.items()\n",
    "n = 0\n",
    "print(\"Total number of items in root folder: \" + str(len(root_folder_items)))\n",
    "\n",
    "# list of supported file types to retrieve from the user folders\n",
    "file_types = ['CSV','Microsoft Excel','KML','PDF']\n",
    "\n",
    "#access the first item for a sample\n",
    "for root_folder_item in root_folder_items:\n",
    "    if (root_folder_item.type in file_types):\n",
    "            n += 1\n",
    "            print(root_folder_item.title + '\\t\\t(' + root_folder_item.type +')\\n')\n",
    "\n",
    "# listing documents inside other user folders\n",
    "for fld in flds:\n",
    "    #print((carpeta))\n",
    "    print('Name: '+ fld['title']+'\\n')\n",
    "    flds = user.items(folder=fld['title'])\n",
    "    print('You have '+str(len(flds))+' items inside your folder\\n')\n",
    "    for i in flds:\n",
    "        if i.type in file_types:\n",
    "            n += 1\n",
    "            print('\\t\\t'+i.title + '\\t\\t('+i.type+')\\n')\n",
    "\n",
    "print('\\tDownloadable elements:\\t'+str(n))"
   ]
  },
  {
   "cell_type": "markdown",
   "metadata": {
    "collapsed": true
   },
   "source": [
    "Once we have all items inside a given folder, we can access to the actual item to get its proporties"
   ]
  }
 ],
 "metadata": {
  "kernelspec": {
   "display_name": "Python 3",
   "language": "python",
   "name": "python3"
  },
  "language_info": {
   "codemirror_mode": {
    "name": "ipython",
    "version": 3
   },
   "file_extension": ".py",
   "mimetype": "text/x-python",
   "name": "python",
   "nbconvert_exporter": "python",
   "pygments_lexer": "ipython3",
   "version": "3.6.1"
  }
 },
 "nbformat": 4,
 "nbformat_minor": 2
}
