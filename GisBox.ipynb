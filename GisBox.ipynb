{
 "cells": [
  {
   "cell_type": "markdown",
   "metadata": {},
   "source": [
    "<h1>GIS BOX Project</h1>"
   ]
  },
  {
   "cell_type": "markdown",
   "metadata": {},
   "source": [
    "Project to create a **file synchronization service between an [ArcGIS Online](http://doc.arcgis.com/es/arcgis-online/reference/what-is-agol.htm) or [ArcGIS Enterprise](http://server.arcgis.com/es/server/latest/get-started/windows/what-is-arcgis-enterprise-.htm) account and a local-based filesystem**. \n",
    "\n",
    "With this tool you can easily synchronize all the content you have in your ArcGIS Organization to a local folder. This way you can easily manage documents, CSVs files, Shapefiles, etc... as you would do with other tools like [BOX](https://www.box.com), [Dropbox](https://www.dropbox.com) or [OneDrive](https://www.onedrive.com).\n",
    "\n",
    "This project uses the [ArcGIS API for Python](https://developers.arcgis.com/python/): \n",
    "\n",
    "> a Python library for working with maps and geospatial data. It provides simple and efficient tools for sophisticated vector and raster analysis, geocoding, map making, routing and directions, as well as for organizing and managing a GIS with users, groups and information items."
   ]
  },
  {
   "cell_type": "code",
   "execution_count": 1,
   "metadata": {
    "collapsed": true
   },
   "outputs": [],
   "source": [
    "from arcgis.gis import GIS\n",
    "from arcgis.gis import User\n",
    "import os\n",
    "import getpass"
   ]
  },
  {
   "cell_type": "code",
   "execution_count": 4,
   "metadata": {},
   "outputs": [
    {
     "name": "stdout",
     "output_type": "stream",
     "text": [
      "········\n"
     ]
    }
   ],
   "source": [
    "# with this we get prompted to enter the password instead of hardcoding it inside the code\n",
    "p = getpass.getpass()\n",
    "gis = GIS(\"https://geogeeks.maps.arcgis.com\", \"aitor.calero.masquemapas\", p)"
   ]
  },
  {
   "cell_type": "markdown",
   "metadata": {},
   "source": [
    "Now, we are going to acces to the User content to retrieve the folders structure and every item inside them"
   ]
  },
  {
   "cell_type": "code",
   "execution_count": 7,
   "metadata": {
    "collapsed": true
   },
   "outputs": [],
   "source": [
    "m = gis.map()\n",
    "user = User(gis,\"aitor.calero.masquemapas\",userdict=None)"
   ]
  },
  {
   "cell_type": "markdown",
   "metadata": {},
   "source": [
    "Now we list the number & type of items contained inside each folder"
   ]
  },
  {
   "cell_type": "code",
   "execution_count": 68,
   "metadata": {},
   "outputs": [
    {
     "name": "stdout",
     "output_type": "stream",
     "text": [
      "\n",
      "You have **14** folders in your ArcGIS Organization\n",
      "\n",
      "Name: BA - Application Data\t\t\t\t | ID: 229d06580bac4dbf8247544c564ccb48\n",
      "You have 15 items inside your folder\n",
      "\n",
      "Name: BA - My Reports - Ordered Reports\t\t\t\t | ID: b42d768eaa834f3ea337e0c4a7bb1a46\n",
      "You have 4 items inside your folder\n",
      "\n",
      "Spain Summary Report\t\t(PDF)\n",
      "\n",
      "Site Map\t\t(PDF)\n",
      "\n",
      "Spain Consumer Spending (AIS)\t\t(PDF)\n",
      "\n",
      "Spain Consumer Spending (AIS) 2\t\t(PDF)\n",
      "\n",
      "Name: BA - Project Data\t\t\t\t | ID: 213d3986f4a34883ac9051963203841d\n",
      "You have 1 items inside your folder\n",
      "\n",
      "Name: CA - Application Data\t\t\t\t | ID: b28efcc7b7704dd49554492d860b5319\n",
      "You have 16 items inside your folder\n",
      "\n",
      "Name: CA - My Reports - Ordered Reports\t\t\t\t | ID: b09a1e92ea1f4b1091ad85ad831d0b0a\n",
      "You have 1 items inside your folder\n",
      "\n",
      "Spain Consumer Spending (AIS)\t\t(PDF)\n",
      "\n",
      "Name: CA - Project Data\t\t\t\t | ID: 0ebad8c053fc41bdaa35de9881db647a\n",
      "You have 1 items inside your folder\n",
      "\n",
      "Name: Geogeeks\t\t\t\t | ID: a5f76fb399884fe28f22492422f37a63\n",
      "You have 0 items inside your folder\n",
      "\n",
      "Name: PokemonGo\t\t\t\t | ID: b8980535ec5c4ce0a8bb3aa36e66d8dd\n",
      "You have 35 items inside your folder\n",
      "\n",
      "Paradas Autobuses\t\t(Microsoft Excel)\n",
      "\n",
      "Name: Report Templates\t\t\t\t | ID: ea561f29e1ea48508901c0b07850af9d\n",
      "You have 1 items inside your folder\n",
      "\n",
      "Name: Survey-Información de Competencia\t\t\t\t | ID: 4f61b5ab831548aea6cc3b239b54e0f0\n",
      "You have 3 items inside your folder\n",
      "\n",
      "Name: Survey-Test \t\t\t\t | ID: 9f107eca08474ee78a92e6de0a602ce1\n",
      "You have 3 items inside your folder\n",
      "\n",
      "Name: Survey-TestAnónimo\t\t\t\t | ID: eeeeaffc62ff480185845a42e22f2536\n",
      "You have 3 items inside your folder\n",
      "\n",
      "Name: Survey-Visitas a Clientes\t\t\t\t | ID: 1a4bb3dee25a412c830cc8b6d6d2a08d\n",
      "You have 3 items inside your folder\n",
      "\n",
      "Name: _ Geodesign 87ff1d4b2a6042edba90c43d5aab8a0c\t\t\t\t | ID: b1213c08962c41cf8439f3c19cf0eeef\n",
      "You have 4 items inside your folder\n",
      "\n"
     ]
    }
   ],
   "source": [
    "flds = user.folders\n",
    "print('\\nYou have **'+str(len(user.folders))+'** folders in your ArcGIS Organization\\n')\n",
    "for fld in flds:\n",
    "    #print((carpeta))\n",
    "    print('Name: '+ fld['title']+'\\t\\t\\t\\t | ID: '+fld['id'])\n",
    "    flds = user.items(folder=fld['title'])\n",
    "    print('You have '+str(len(flds))+' items inside your folder\\n')\n",
    "    for i in flds:\n",
    "        if i.type == 'PDF' or i.type == 'Microsoft Excel':\n",
    "            print(i.title + '\\t\\t('+i.type+')\\n')"
   ]
  },
  {
   "cell_type": "markdown",
   "metadata": {
    "collapsed": true
   },
   "source": [
    "Once we have all items inside a given folder, we can access to the actual item to get its proporties"
   ]
  }
 ],
 "metadata": {
  "kernelspec": {
   "display_name": "Python 3",
   "language": "python",
   "name": "python3"
  },
  "language_info": {
   "codemirror_mode": {
    "name": "ipython",
    "version": 3
   },
   "file_extension": ".py",
   "mimetype": "text/x-python",
   "name": "python",
   "nbconvert_exporter": "python",
   "pygments_lexer": "ipython3",
   "version": "3.6.1"
  }
 },
 "nbformat": 4,
 "nbformat_minor": 2
}
